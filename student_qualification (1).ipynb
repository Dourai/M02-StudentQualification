{
 "cells": [
  {
   "cell_type": "code",
   "execution_count": null,
   "id": "ed6faac9-58da-48c6-b193-b1847ca986bf",
   "metadata": {},
   "outputs": [
    {
     "name": "stdout",
     "output_type": "stream",
     "text": [
      "Welcome to the Student Qualification App!\n"
     ]
    },
    {
     "name": "stdin",
     "output_type": "stream",
     "text": [
      "Enter student's last name (Enter 'ZZZ' to quit):  Ourai\n",
      "Enter student's first name:  Daniel\n",
      "Enter student's GPA:  3.25\n"
     ]
    },
    {
     "name": "stdout",
     "output_type": "stream",
     "text": [
      "Daniel Ourai has made the Honor Roll!\n"
     ]
    },
    {
     "name": "stdin",
     "output_type": "stream",
     "text": [
      "Enter student's last name (Enter 'ZZZ' to quit):  Powers\n",
      "Enter student's first name:  Austin\n",
      "Enter student's GPA:  .01\n"
     ]
    },
    {
     "name": "stdout",
     "output_type": "stream",
     "text": [
      "Unfortunately, Austin Powers does not qualify for the Dean's List or Honor Roll.\n"
     ]
    },
    {
     "name": "stdin",
     "output_type": "stream",
     "text": [
      "Enter student's last name (Enter 'ZZZ' to quit):  Yee\n",
      "Enter student's first name:  Matt\n",
      "Enter student's GPA:  4.0\n"
     ]
    },
    {
     "name": "stdout",
     "output_type": "stream",
     "text": [
      "Matt Yee has made the Dean's List!\n"
     ]
    },
    {
     "name": "stdin",
     "output_type": "stream",
     "text": [
      "Enter student's last name (Enter 'ZZZ' to quit):  Hall\n",
      "Enter student's first name:  Keegan\n",
      "Enter student's GPA:  3.4\n"
     ]
    },
    {
     "name": "stdout",
     "output_type": "stream",
     "text": [
      "Keegan Hall has made the Honor Roll!\n"
     ]
    },
    {
     "name": "stdin",
     "output_type": "stream",
     "text": [
      "Enter student's last name (Enter 'ZZZ' to quit):  Ourai\n",
      "Enter student's first name:  Samantha\n",
      "Enter student's GPA:  4.5\n"
     ]
    },
    {
     "name": "stdout",
     "output_type": "stream",
     "text": [
      "Samantha Ourai has made the Dean's List!\n"
     ]
    }
   ],
   "source": [
    "# Author: Daniel J. Ourai\n",
    "# File Name: student_qualification.ipynb\n",
    "# Description: This Python app accepts student names and GPAs and tests if the student qualifies for either the Dean's List or the Honor Roll.\n",
    "# The app asks for and accepts a student's last name, quits processing student records if the last name entered is 'ZZZ',\n",
    "# The app asks for and accepts a student's first name, asks for and accepts the student's GPA as a float,\n",
    "# The app tests if the student's GPA is 3.5 or greater and, if so, prints a message saying that the student has made the Dean's List,\n",
    "# The app tests if the student's GPA is 3.25 or greater and, if so, prints a message saying that the student has made the Honor Roll.\n",
    "\n",
    "def main():\n",
    "    print(\"Welcome to the Student Qualification App!\")\n",
    "\n",
    "    while True: \n",
    "        last_name = input(\"Enter student's last name (Enter 'ZZZ' to quit): \")\n",
    "        if last_name == 'ZZZ':\n",
    "            print(\"Exiting the program...\")\n",
    "            break\n",
    "\n",
    "        first_name = input(\"Enter student's first name: \")\n",
    "        gpa = float(input(\"Enter student's GPA: \"))\n",
    "\n",
    "        if gpa >= 3.5:\n",
    "            print(f\"{first_name} {last_name} has made the Dean's List!\")\n",
    "        elif gpa >= 3.25:\n",
    "            print(f\"{first_name} {last_name} has made the Honor Roll!\")\n",
    "        else:\n",
    "            print(f\"Unfortunately, {first_name} {last_name} does not qualify for the Dean's List or Honor Roll.\")\n",
    "\n",
    "if __name__ == \"__main__\":\n",
    "    main()\n",
    "        "
   ]
  },
  {
   "cell_type": "code",
   "execution_count": null,
   "id": "0b7b85eb-6ae5-497e-9fce-f0fbdea1f502",
   "metadata": {},
   "outputs": [],
   "source": []
  }
 ],
 "metadata": {
  "kernelspec": {
   "display_name": "Python 3 (ipykernel)",
   "language": "python",
   "name": "python3"
  },
  "language_info": {
   "codemirror_mode": {
    "name": "ipython",
    "version": 3
   },
   "file_extension": ".py",
   "mimetype": "text/x-python",
   "name": "python",
   "nbconvert_exporter": "python",
   "pygments_lexer": "ipython3",
   "version": "3.11.7"
  }
 },
 "nbformat": 4,
 "nbformat_minor": 5
}
